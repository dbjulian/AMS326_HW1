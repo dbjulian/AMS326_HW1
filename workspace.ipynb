{
 "cells": [
  {
   "cell_type": "code",
   "execution_count": 4,
   "id": "193dd492",
   "metadata": {},
   "outputs": [],
   "source": [
    "### Problem 1\n",
    "\n",
    "# Define the function and its derivative as given in HW 1 Problem 1\n",
    "import numpy as np\n",
    "import matplotlib.pyplot as plt\n",
    "import time\n",
    "import timeit\n",
    "\n",
    "# we know the desired root is r ≈ 0.641583, this is in the open interval (0,1)\n",
    "\n",
    "\n",
    "r = 0.641583 # desired result\n",
    "\n",
    "def func(x):   #the given function\n",
    "    return (np.exp(-x**3) - x**4 - np.sin(x) )\n",
    "\n",
    "def dfunc(x): #the given function's first derivative (for Newton's method)\n",
    "    return (-3.0*x**2 * np.exp(-x**3) - 4.0*x**3 - np.cos(x))"
   ]
  },
  {
   "cell_type": "code",
   "execution_count": 2,
   "id": "523b14eb",
   "metadata": {},
   "outputs": [
    {
     "name": "stdout",
     "output_type": "stream",
     "text": [
      "The estimated root by the bisection method after 15 iterations is: 0.64154052734375\n",
      "Error: 4.2472656250014396e-05\n",
      "The runtime for this method is: 0.0006477832794189453 seconds\n"
     ]
    }
   ],
   "source": [
    "# part (1): Bisection method\n",
    "# the initial interval is given to be a_0 = -1, b_0 = 1\n",
    "\n",
    "a0 = -1.0\n",
    "b0 = 1.0 \n",
    "\n",
    "iters = 15 #number of iterations; note: one could use a while loop and impose a convergence condition on xc\n",
    "# However, we are interested in the number of iterations\n",
    "initial_time = time.time() # keep track of runtime\n",
    "for i in range(iters):\n",
    "    x_c = 0.5*(a0 + b0)  # calculate midpoint, 2 FLOPS\n",
    "    fa0 = func(a0) # ~170 FLOPS\n",
    "    fxc = func(x_c)  # ~170 FLOPS\n",
    "    if fa0*fxc < 0.0:  # 1 FLOP    check if the sign of the function changes in left half\n",
    "        a0 = a0  # 1 FLOP   reassign the limits of the interval\n",
    "        b0 = x_c  # 1 FLOP\n",
    "    else:\n",
    "        a0 = x_c # 1 FLOP\n",
    "        b0 = b0  #1 FLOP\n",
    "    \n",
    "final_time = time.time()\n",
    "total_time = final_time - initial_time\n",
    "    \n",
    "print('The estimated root by the bisection method after ' + str(iters) + ' iterations is: ' + str(x_c))\n",
    "print('Error: ' + str(np.abs(x_c - r)))\n",
    "print('The runtime for this method is: ' + str(total_time) + ' seconds')\n",
    "\n",
    "\n",
    "# 15 iterations is the minimum number required to satisfy the assignments accuracy condition\n",
    "# Total of ~ 5200 FLOPS"
   ]
  },
  {
   "cell_type": "code",
   "execution_count": 3,
   "id": "8d1d6f61",
   "metadata": {},
   "outputs": [
    {
     "name": "stdout",
     "output_type": "stream",
     "text": [
      "The estimated root by Newton's method after 5 iterations is: 0.6415825512515503\n",
      "Error: 4.487484497328609e-07\n",
      "The runtime for this method is: 0.0003638267517089844 seconds\n"
     ]
    }
   ],
   "source": [
    "# part (2): Newton's method\n",
    "\n",
    "x0 = 0.0 # initial root\n",
    "\n",
    "iters = 5\n",
    "initial_time = time.time()\n",
    "\n",
    "for i in range(iters):\n",
    "    x0 = x0 - func(x0)/dfunc(x0) # ~ 170 + 170 + 3 FLOPS per iteration, perform one Newton step\n",
    "\n",
    "final_time = time.time()\n",
    "total_time = final_time - initial_time\n",
    "\n",
    "print(\"The estimated root by Newton's method after \" + str(iters) + ' iterations is: ' + str(x0))\n",
    "print('Error: ' + str(np.abs(x0 - r)))\n",
    "print('The runtime for this method is: ' + str(total_time) + ' seconds')\n",
    "\n",
    "\n",
    "# 5 iterations is the minimum number required to satisfy the accurac condition\n",
    "# A total number of ~ 1700 FLOPS"
   ]
  },
  {
   "cell_type": "code",
   "execution_count": 4,
   "id": "34bed2e4",
   "metadata": {},
   "outputs": [
    {
     "name": "stdout",
     "output_type": "stream",
     "text": [
      "The estimated root by the Secant method after 6 iterations is: 0.6415908941839591\n",
      "Error: 7.894183959078482e-06\n",
      "The runtime for this method is: 0.0003178119659423828 seconds\n"
     ]
    }
   ],
   "source": [
    "# part (3): secant method\n",
    "\n",
    "x0 = -1.0\n",
    "x1 = 1.0  # initial roots\n",
    "\n",
    "iters = 6\n",
    "initial_time = time.time()\n",
    "\n",
    "for i in range(iters):\n",
    "    x2 = x1 - (x1 - x0)*(func(x1)/(  (func(x1) - func(x0)) )) # ~ 170*3 + 6 FLOPS, perform one secant step\n",
    "    x0 = x1 # 1 FLOP reassign evaluation points\n",
    "    x1 = x2 # 1 FLOP\n",
    "\n",
    "\n",
    "final_time = time.time()\n",
    "total_time = final_time - initial_time\n",
    "\n",
    "print(\"The estimated root by the Secant method after \" + str(iters) + ' iterations is: ' + str(x2))\n",
    "print('Error: ' + str(np.abs(x2 - r)))\n",
    "print('The runtime for this method is: ' + str(total_time) + ' seconds')\n",
    "  \n",
    "# minimum of 6 iterations needed to reach required accuracy\n",
    "# ~ 3100 FLOPS "
   ]
  },
  {
   "cell_type": "code",
   "execution_count": 5,
   "id": "46ff1671",
   "metadata": {},
   "outputs": [
    {
     "name": "stdout",
     "output_type": "stream",
     "text": [
      "The estimated root by the Monte Carlo method after 69 iterations is: 0.6415684822671894\n",
      "Error: 1.4517732810581663e-05\n",
      "The runtime for this method is: 0.0025451183319091797 seconds\n"
     ]
    }
   ],
   "source": [
    "# part (4): Monte Carlo method\n",
    "\n",
    "x0 = 0.50 # initial minimum from which random numbers can be drawn\n",
    "x1 = 0.75 # initial maximum from which random numbers can be drawn\n",
    "iters  = 69\n",
    "np.random.seed(2) # set seed for reporducibility\n",
    "initial_time = time.time()\n",
    "for i in range(iters):\n",
    "    new_numbers = np.random.uniform(x0, x1, 2) # 2 FLOPS\n",
    "    # determine if the function's sign flips between the two randomly drawn points\n",
    "    if func(new_numbers[0])*func(new_numbers[1]) < 0.0: # ~ 170*2 + 1 FLOPS\n",
    "        x0 = np.min(new_numbers) # 1 FLOP\n",
    "        x1 = np.max(new_numbers) # 1 FLOP\n",
    "        \n",
    "x = 0.5*(x0 + x1) # 2 FLOPS # take the midpoint of the random interval\n",
    "    \n",
    "final_time = time.time()\n",
    "total_time = final_time - initial_time  \n",
    "print(\"The estimated root by the Monte Carlo method after \" + str(iters) + ' iterations is: ' + str(x))\n",
    "print('Error: ' + str(np.abs(x - r)))\n",
    "print('The runtime for this method is: ' + str(total_time) + ' seconds')\n",
    "\n",
    "# minimum of 69 iterations needed (with this seed) to obtain desired accuracy\n",
    "# ~  23800 FLOPS in total"
   ]
  },
  {
   "cell_type": "code",
   "execution_count": null,
   "id": "e099e991",
   "metadata": {},
   "outputs": [],
   "source": []
  },
  {
   "cell_type": "code",
   "execution_count": null,
   "id": "1d25af84",
   "metadata": {},
   "outputs": [],
   "source": []
  },
  {
   "cell_type": "code",
   "execution_count": null,
   "id": "f47e8f43",
   "metadata": {},
   "outputs": [],
   "source": []
  },
  {
   "cell_type": "code",
   "execution_count": null,
   "id": "c58fb8b0",
   "metadata": {},
   "outputs": [],
   "source": []
  },
  {
   "cell_type": "code",
   "execution_count": null,
   "id": "cda30ac2",
   "metadata": {},
   "outputs": [],
   "source": []
  },
  {
   "cell_type": "code",
   "execution_count": null,
   "id": "50c3b4b7",
   "metadata": {},
   "outputs": [],
   "source": [
    "### Problem 2"
   ]
  },
  {
   "cell_type": "code",
   "execution_count": 26,
   "id": "e500a78b",
   "metadata": {},
   "outputs": [
    {
     "name": "stdout",
     "output_type": "stream",
     "text": [
      "P_4(t=6) = 452.0000000000555\n",
      "Runtime: 0.0009899139404296875 seconds\n"
     ]
    },
    {
     "data": {
      "image/png": "[encoded data removed]",
      "text/plain": [
       "<Figure size 432x288 with 1 Axes>"
      ]
     },
     "metadata": {
      "needs_background": "light"
     },
     "output_type": "display_data"
    }
   ],
   "source": [
    "#part (1)\n",
    "\n",
    "import numpy as np\n",
    "import time\n",
    "# assmeble information known ahead of time before implementing algorithm\n",
    "data = np.array([[1, 412], [2, 407], [3, 397], [4, 398], [5, 417]]) # the dataset as ordered pairs \n",
    "power = 4 #highest exponent in interpolation\n",
    "def P(x, power1, coefficients1): # interpolate point x with maximum exponent in polynomial interpolation 'power'\n",
    "    y = 0.0\n",
    "    power1 = int(power1) # ensure that we raise floats to integers only\n",
    "    for i in range(power1+1):\n",
    "        y += coefficients1[i]* x**(power1-i) # calculate the interpolation, one term at a time\n",
    "    return y\n",
    "\n",
    "initial_time = time.time() # keep track of runtime\n",
    "# implement algorithm for finding the interpolation coefficients\n",
    "matrix = np.zeros((data.shape[0], power+1)) #set up matrix for inversion\n",
    "for i in range(data.shape[0]): #try to make the program as general as possible for any dataset and interpolation\n",
    "    for j in range(power+1):\n",
    "        matrix[i, j] += data[i,0]**(power-j)      \n",
    "coefficients = np.matmul(np.linalg.inv(matrix), np.delete(data, 0, axis = 1 )) #compute interpolation coefficients\n",
    "result = P(6.0, power, coefficients) # calculate the desired result \n",
    "\n",
    "final_time = time.time()\n",
    "total_time = final_time - initial_time\n",
    "plt.title(r'$P_4$ Interpolation')\n",
    "plt.xlabel('t')\n",
    "plt.ylabel('y')\n",
    "plt.scatter(np.delete(data, 1, axis = 1 ), np.delete(data, 0, axis = 1 ), color='red', label='Data')\n",
    "x_range = np.linspace(1.0, 6.0, 100)\n",
    "plt.plot(x_range, P(x_range, 4, coefficients), color='blue', label=r'$P_4(t)$ interpolation')\n",
    "plt.legend(fontsize = 12)\n",
    "plt.savefig('./P4_interpolation.png')\n",
    "print('P_4(t=6) = ' + str(result[0]))\n",
    "\n",
    "print('Runtime: ' + str(total_time) + ' seconds')"
   ]
  },
  {
   "cell_type": "code",
   "execution_count": null,
   "id": "462d33f1",
   "metadata": {},
   "outputs": [],
   "source": []
  },
  {
   "cell_type": "code",
   "execution_count": 2,
   "id": "18ae541e",
   "metadata": {},
   "outputs": [
    {
     "name": "stdout",
     "output_type": "stream",
     "text": [
      "2.876670000091508e-08\n"
     ]
    }
   ],
   "source": [
    "import numpy as np\n",
    "import timeit\n",
    "import time\n",
    "\n",
    "\n",
    "\n",
    "fp_time = timeit.timeit('3.0*3.0', number = 10000)\n",
    "print(fp_time/10000.0)"
   ]
  },
  {
   "cell_type": "code",
   "execution_count": 3,
   "id": "e4886582",
   "metadata": {},
   "outputs": [
    {
     "name": "stdout",
     "output_type": "stream",
     "text": [
      "3.029333000000634e-08\n"
     ]
    }
   ],
   "source": [
    "\n",
    "fp_time = timeit.timeit('3.0*3.0', number = 100000)\n",
    "print(fp_time/100000.0)"
   ]
  },
  {
   "cell_type": "code",
   "execution_count": null,
   "id": "1e1761e1",
   "metadata": {},
   "outputs": [],
   "source": [
    "# one flop is ~ 3e-8 s"
   ]
  },
  {
   "cell_type": "code",
   "execution_count": 8,
   "id": "c41574f3",
   "metadata": {},
   "outputs": [
    {
     "name": "stdout",
     "output_type": "stream",
     "text": [
      "4.889988899230957e-06\n"
     ]
    }
   ],
   "source": [
    "import time\n",
    "\n",
    "initial_time = time.time()\n",
    "\n",
    "for i in range(10000):\n",
    "    func(0.0)\n",
    "    \n",
    "final_time = time.time()\n",
    "total_time = final_time - initial_time\n",
    "print(total_time/10000)\n",
    "\n",
    "# one function call is ~ 5e-6 s"
   ]
  },
  {
   "cell_type": "code",
   "execution_count": 9,
   "id": "b99fa066",
   "metadata": {},
   "outputs": [
    {
     "name": "stdout",
     "output_type": "stream",
     "text": [
      "166.66666666666669\n"
     ]
    }
   ],
   "source": [
    "print(5.0e-6 / 3.0e-8)"
   ]
  },
  {
   "cell_type": "code",
   "execution_count": null,
   "id": "1f545332",
   "metadata": {},
   "outputs": [],
   "source": [
    "# about 170 flops per function call"
   ]
  },
  {
   "cell_type": "code",
   "execution_count": 28,
   "id": "0e6c7b4e",
   "metadata": {},
   "outputs": [
    {
     "name": "stdout",
     "output_type": "stream",
     "text": [
      "Q_2(t = 6) = 436.00000000000546\n",
      "Runtime: 0.0009610652923583984 seconds\n"
     ]
    },
    {
     "data": {
      "image/png": "[encoded data removed]",
      "text/plain": [
       "<Figure size 432x288 with 1 Axes>"
      ]
     },
     "metadata": {
      "needs_background": "light"
     },
     "output_type": "display_data"
    }
   ],
   "source": [
    "### Problem 2 part 2\n",
    "\n",
    "data = np.array([[1, 412], [2, 407], [3, 397], [4, 398], [5, 417]])\n",
    "matrix = np.zeros((data.shape[0], 3))\n",
    "b = np.delete(data, 0, axis = 1 )\n",
    "\n",
    "###\n",
    "initial_time = time.time()\n",
    "for i in range(data.shape[0]): # construct the needed matrix for least-squares fitting\n",
    "    matrix[i, 0] += 1.0\n",
    "    matrix[i, 1] += data[i, 0]\n",
    "    matrix[i,2] += data[i,0]**2\n",
    "    \n",
    "    \n",
    "# implement closed-form solution for OLS without regularization (i.e., assuming invertibility of matrices)  \n",
    "quad_coefficients = np.matmul(np.linalg.inv(np.matmul(matrix.transpose(), matrix)) ,   np.matmul(matrix.transpose(), np.delete(data, 0, axis = 1 )))\n",
    "    \n",
    "def quad_fit(x, coefficients):\n",
    "    return ( coefficients[0] + coefficients[1]*x + coefficients[2]*x**2)\n",
    "\n",
    "prediction = quad_fit(6.0, quad_coefficients) # make prediction asked in problem\n",
    "final_time = time.time() \n",
    "###\n",
    "\n",
    "total_time = final_time - initial_time\n",
    "print('Q_2(t = 6) = ' + str(prediction[0]))\n",
    "print('Runtime: ' + str(total_time) + ' seconds')\n",
    "# calculate rmse\n",
    "rmse=np.sqrt(np.sum(np.power(quad_fit(np.delete(data,1,axis=1),quad_coefficients)-np.delete(data,0,axis=1),2))/(data.shape[0]))   \n",
    "plt.title('Quadratic Fit to Data')\n",
    "plt.xlabel('t')\n",
    "plt.ylabel('y')\n",
    "plt.scatter(np.delete(data, 1, axis = 1 ), np.delete(data, 0, axis = 1 ), label='Data', color='red')\n",
    "x_range = np.linspace(1.0, 6.0, 100)\n",
    "plt.plot(x_range, quad_fit(x_range, quad_coefficients), color='blue', label='Quadratic Fit')\n",
    "plt.text(4, 425, 'RMSE: ' + str(rmse)[:6], fontsize = 12)\n",
    "plt.legend()\n",
    "\n",
    "\n",
    "plt.savefig('./quadratic_fit.png')"
   ]
  },
  {
   "cell_type": "code",
   "execution_count": null,
   "id": "439b4e31",
   "metadata": {},
   "outputs": [],
   "source": []
  }
 ],
 "metadata": {
  "kernelspec": {
   "display_name": "Python 3 (ipykernel)",
   "language": "python",
   "name": "python3"
  },
  "language_info": {
   "codemirror_mode": {
    "name": "ipython",
    "version": 3
   },
   "file_extension": ".py",
   "mimetype": "text/x-python",
   "name": "python",
   "nbconvert_exporter": "python",
   "pygments_lexer": "ipython3",
   "version": "3.9.7"
  }
 },
 "nbformat": 4,
 "nbformat_minor": 5
}
